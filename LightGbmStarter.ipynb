{
 "cells": [
  {
   "cell_type": "markdown",
   "id": "3f566213-e707-42c6-a65b-e9307e91454c",
   "metadata": {},
   "source": [
    "# LightGBM Starter Model"
   ]
  },
  {
   "cell_type": "code",
   "execution_count": null,
   "id": "1f34a72c-6965-40d1-9e87-5457fcac4fb2",
   "metadata": {},
   "outputs": [],
   "source": [
    "import random\n",
    "import warnings\n",
    "\n",
    "import lightgbm as lgb\n",
    "import numpy as np\n",
    "import polars as pl\n",
    "import utilsforecast.processing as ufp\n",
    "from mlforecast import MLForecast\n",
    "from mlforecast.lag_transforms import ExpandingMean, RollingMean, RollingStd\n",
    "from mlforecast.lgb_cv import LightGBMCV\n",
    "from mlforecast.target_transforms import LocalRobustScaler\n",
    "from utilsforecast.plotting import plot_series\n",
    "from src.data import load_full_data, process_wide_df"
   ]
  },
  {
   "cell_type": "code",
   "execution_count": null,
   "id": "da7aa005-5a84-4072-b063-e1dc17026bef",
   "metadata": {},
   "outputs": [],
   "source": []
  },
  {
   "cell_type": "code",
   "execution_count": null,
   "id": "d6ca5b5e-44e3-49c5-aa7a-93bef4a7d023",
   "metadata": {},
   "outputs": [],
   "source": [
    "# ignore some warnings produced by mlforecast\n",
    "warnings.filterwarnings(\"ignore\", message=r\".*Found null values.*\")\n",
    "warnings.filterwarnings(\"ignore\", message=r\"The following series are too short.*\")\n",
    "warnings.filterwarnings(\"ignore\", message=r\"Could not find the number of physical cores*\")\n",
    "\n",
    "def comp_loss(y_true, y_pred, ids, dates):\n",
    "    err = y_pred - y_true\n",
    "    abs_err = np.abs(err)\n",
    "    score = abs(err.sum()) + abs_err.sum()\n",
    "    yt_sum = y_true.sum()\n",
    "\n",
    "    if yt_sum == 0:\n",
    "        score = 0.0\n",
    "    else:\n",
    "        score /= yt_sum\n",
    "    return score\n",
    "\n",
    "def get_zero_var_ids(df: pl.DataFrame, n: int = 2) -> pl.DataFrame:\n",
    "    return df. group_by('unique_id').tail(n).group_by('unique_id').agg(\n",
    "                            pl.col('y').std().alias('std'),\n",
    "                            pl.col('y').last().alias('fill')).filter(pl.col('std').eq(0))"
   ]
  },
  {
   "cell_type": "code",
   "execution_count": null,
   "id": "6fb0a355-799e-484e-b924-26d02fac75db",
   "metadata": {},
   "outputs": [],
   "source": []
  },
  {
   "cell_type": "code",
   "execution_count": null,
   "id": "df1dd09d-79a0-4f75-a38a-fe0b5373e346",
   "metadata": {},
   "outputs": [],
   "source": [
    "sales = process_wide_df(load_full_data())\n",
    "sales_pd = sales.to_pandas()"
   ]
  },
  {
   "cell_type": "code",
   "execution_count": null,
   "id": "a1cd13e7-8bcd-4e17-b325-25dc845bc295",
   "metadata": {
    "scrolled": true
   },
   "outputs": [],
   "source": [
    "plot_series(sales, seed=random.randint(0, 2000), max_ids=10)"
   ]
  },
  {
   "cell_type": "code",
   "execution_count": null,
   "id": "c5c1d00a-e694-4dec-ba67-e82915db2450",
   "metadata": {},
   "outputs": [],
   "source": [
    "sales_pd.set_index(\"ds\").resample(\"W-MON\")[\"y\"].sum().plot()"
   ]
  },
  {
   "cell_type": "code",
   "execution_count": null,
   "id": "6228caa7-cb8f-4791-818a-1db6215f328e",
   "metadata": {},
   "outputs": [],
   "source": []
  },
  {
   "cell_type": "markdown",
   "id": "7d7fe8e8-8906-4fde-991c-c2eb7ab98a12",
   "metadata": {},
   "source": [
    "# Remove Leading Zeros"
   ]
  },
  {
   "cell_type": "code",
   "execution_count": null,
   "id": "1ad12a0a-0e40-42ea-9f85-5b7502fcbab1",
   "metadata": {},
   "outputs": [],
   "source": [
    "_id = \"24-226-1737\"\n",
    "plot_series(sales.filter(pl.col(\"unique_id\") == _id))"
   ]
  },
  {
   "cell_type": "code",
   "execution_count": null,
   "id": "db049015-1b32-46d1-ba95-38a628125bdd",
   "metadata": {},
   "outputs": [],
   "source": [
    "sales = sales.sort('unique_id', 'ds')\n",
    "without_leading_zeros = sales.select(pl.col('y').gt(0).cast(pl.Int64).cum_max().over('unique_id').cast(pl.Boolean))['y']\n",
    "sales = sales.filter(without_leading_zeros)\n",
    "plot_series(sales, seed=random.randint(0, 2000), max_ids=10)"
   ]
  },
  {
   "cell_type": "code",
   "execution_count": null,
   "id": "e5089c9c-9f19-401a-89f3-4a161a254acf",
   "metadata": {},
   "outputs": [],
   "source": [
    "plot_series(sales.filter(pl.col(\"unique_id\") == _id))"
   ]
  },
  {
   "cell_type": "markdown",
   "id": "4b0d9ed2-3046-4568-98b8-6497045b1be8",
   "metadata": {},
   "source": [
    "# LightGbm Cross-Validation"
   ]
  },
  {
   "cell_type": "code",
   "execution_count": null,
   "id": "b9f1931f-e39b-402b-9e5b-71fb23e39553",
   "metadata": {},
   "outputs": [],
   "source": [
    "%%time\n",
    "\n",
    "h = 13  # number of weeks to predict\n",
    "rmean4 = RollingMean(window_size=4, min_samples=1)\n",
    "rstd4 = RollingStd(window_size=4, min_samples=2)\n",
    "\n",
    "lgb_cv = LightGBMCV(\n",
    "    freq='7d',\n",
    "    lags=[13, 52],\n",
    "    lag_transforms={\n",
    "        1 : [\n",
    "            ExpandingMean(),\n",
    "            rmean4,\n",
    "            rstd4,\n",
    "            RollingMean(window_size=13, min_samples=1),\n",
    "            RollingMean(window_size=26, min_samples=1),\n",
    "            RollingMean(window_size=52, min_samples=1),\n",
    "        ],\n",
    "        **{\n",
    "            k: [rmean4, rstd4, RollingMean(window_size=52-k, min_samples=1)]\n",
    "            for k in [4, 8, 13]\n",
    "        }\n",
    "    },\n",
    "    target_transforms=[LocalRobustScaler(scale='iqr')],\n",
    "    date_features=['year', 'month'],\n",
    "    num_threads=4,\n",
    ")\n",
    "cv_hist = lgb_cv.fit(\n",
    "    sales_pd,\n",
    "    n_windows=4,\n",
    "    h=h,\n",
    "    dropna=False,\n",
    "    metric=comp_loss,\n",
    "    num_iterations=10_000,\n",
    "    params={'verbosity': -1, 'learning_rate': 0.2, 'num_leaves': 128},\n",
    "    early_stopping_evals=5,\n",
    ")"
   ]
  },
  {
   "cell_type": "code",
   "execution_count": null,
   "id": "411f5cce-e65f-464d-ba85-7b6075210a9c",
   "metadata": {},
   "outputs": [],
   "source": []
  },
  {
   "cell_type": "code",
   "execution_count": null,
   "id": "7a732100-1cda-4602-93cc-eafbf2695d01",
   "metadata": {},
   "outputs": [],
   "source": [
    "mlf = MLForecast.from_cv(lgb_cv)\n",
    "mlf.fit(sales, dropna=False)\n",
    "preds = mlf.predict(h).rename({'LGBMRegressor': 'preds'})"
   ]
  },
  {
   "cell_type": "code",
   "execution_count": null,
   "id": "f29ae458-65f7-48ca-9a76-5fe74147dfe2",
   "metadata": {},
   "outputs": [],
   "source": []
  },
  {
   "cell_type": "code",
   "execution_count": null,
   "id": "4baeee1a-bcb0-4e7f-9a70-63a708c4cb8e",
   "metadata": {},
   "outputs": [],
   "source": [
    "plot_series(sales, preds, max_ids=4, seed=random.randint(0, 234972353))"
   ]
  },
  {
   "cell_type": "markdown",
   "id": "bdb7bba1-f852-4be6-9e94-928dd400d64f",
   "metadata": {},
   "source": [
    "# Manual Overrides\n",
    "\n",
    "Replace time-series with 2 consecutive weeks of zero variance with Naive Forecast."
   ]
  },
  {
   "cell_type": "code",
   "execution_count": null,
   "id": "5de8fb13-70e6-405b-a441-a339c73d065e",
   "metadata": {},
   "outputs": [],
   "source": [
    "df_replace = get_zero_var_ids(sales, n=2)\n",
    "\n",
    "preds = preds.join(df_replace,\n",
    "                   on=['unique_id'],\n",
    "                   how='left').with_columns(\n",
    "                        preds=pl.coalesce(pl.col('fill'), pl.col('preds'))\n",
    "                   ).drop('std', 'fill')"
   ]
  },
  {
   "cell_type": "code",
   "execution_count": null,
   "id": "879d0fc2-6e15-49cd-97a9-a65f349d8f04",
   "metadata": {},
   "outputs": [],
   "source": [
    "plot_series(sales, preds, max_ids=12, seed=random.randint(0, 234972353))"
   ]
  },
  {
   "cell_type": "code",
   "execution_count": null,
   "id": "7bb9b83e-d1d8-4a35-a29b-bc01999bf760",
   "metadata": {},
   "outputs": [],
   "source": [
    "preds_pd = preds.to_pandas()\n",
    "preds_pd[['Client', 'Warehouse', 'Product']] = preds_pd['unique_id'].str.split('-', expand=True)\n",
    "preds_pd['preds'] = np.clip(preds_pd['preds'], 0, None)\n",
    "preds_pd"
   ]
  },
  {
   "cell_type": "code",
   "execution_count": null,
   "id": "cb30c870-03a5-4ce6-b5af-261aa01f09bc",
   "metadata": {},
   "outputs": [],
   "source": []
  },
  {
   "cell_type": "code",
   "execution_count": null,
   "id": "0de576cb-d5ca-4329-8078-3984dc3e8ea5",
   "metadata": {},
   "outputs": [],
   "source": [
    "subm = preds_pd.drop(columns=['unique_id']).pivot(index=['Client', 'Warehouse', 'Product'], columns=['ds'])\n",
    "subm = subm.reset_index()\n",
    "subm.columns = subm.columns.droplevel()\n",
    "subm.columns.name = None\n",
    "subm.columns = ['Client', 'Warehouse', 'Product'] + [x.strftime('%Y-%m-%d') for x in subm.columns[3:]]\n",
    "subm = subm.astype({'Client': 'int64', 'Warehouse': 'int64', 'Product': 'int64'}).sort_values(['Client', 'Warehouse', 'Product'])\n",
    "subm"
   ]
  },
  {
   "cell_type": "code",
   "execution_count": null,
   "id": "166d195f-92a7-4985-b096-d217831b368f",
   "metadata": {},
   "outputs": [],
   "source": []
  },
  {
   "cell_type": "code",
   "execution_count": null,
   "id": "6dfd21f4-5ae2-42d1-960f-fae4d262a152",
   "metadata": {},
   "outputs": [],
   "source": [
    "from datetime import date, timedelta\n",
    "\n",
    "val_date = date(2023, 10, 1)\n",
    "val_weeks = round((sales[\"ds\"].max() - val_date ) / timedelta(weeks=1))\n",
    "\n",
    "train = sales.filter(pl.col(\"ds\") < val_date)\n",
    "val = sales.filter(pl.col(\"ds\") >= val_date)\n",
    "\n",
    "mlf = MLForecast.from_cv(lgb_cv)\n",
    "mlf.fit(train, dropna=False)\n",
    "\n",
    "preds_val = mlf.predict(val_weeks).rename({'LGBMRegressor': 'val'})"
   ]
  },
  {
   "cell_type": "code",
   "execution_count": null,
   "id": "52fec44e-0384-42d8-b264-bce09432607c",
   "metadata": {},
   "outputs": [],
   "source": []
  },
  {
   "cell_type": "code",
   "execution_count": null,
   "id": "32b8303d-3bde-4f33-bb16-f13fbfe69d05",
   "metadata": {},
   "outputs": [],
   "source": [
    "import matplotlib.pyplot as plt\n",
    "import seaborn as sns\n",
    "\n",
    "f, ax = plt.subplots(1, 1)\n",
    "\n",
    "dfpred = preds_val.group_by(\"ds\").agg(pl.col(\"val\").sum()).to_pandas()\n",
    "\n",
    "dfval = val.group_by(\"ds\").agg(pl.col(\"y\").sum()).to_pandas()\n",
    "dftrn = train.group_by(\"ds\").agg(pl.col(\"y\").sum()).to_pandas()\n",
    "\n",
    "sns.lineplot(x=dfpred.ds, y=dfpred.val, label=\"Prediction\", ax=ax)\n",
    "sns.lineplot(x=dftrn.ds, y=dftrn.y, label=\"Train\", ax=ax)\n",
    "sns.lineplot(x=dfval.ds, y=dfval.y, label=\"Validation\", ax=ax)"
   ]
  },
  {
   "cell_type": "code",
   "execution_count": null,
   "id": "1c4f9884-05a1-4e05-bad8-436f79deb876",
   "metadata": {},
   "outputs": [],
   "source": []
  },
  {
   "cell_type": "code",
   "execution_count": null,
   "id": "e7a8ea66-a462-48b6-b8ed-7ad4f1fc0a5c",
   "metadata": {},
   "outputs": [],
   "source": []
  }
 ],
 "metadata": {
  "kernelspec": {
   "display_name": "VN1",
   "language": "python",
   "name": "ts"
  },
  "language_info": {
   "codemirror_mode": {
    "name": "ipython",
    "version": 3
   },
   "file_extension": ".py",
   "mimetype": "text/x-python",
   "name": "python",
   "nbconvert_exporter": "python",
   "pygments_lexer": "ipython3",
   "version": "3.10.16"
  }
 },
 "nbformat": 4,
 "nbformat_minor": 5
}
