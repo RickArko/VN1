{
 "cells": [
  {
   "cell_type": "markdown",
   "id": "05220716-9566-411d-83fd-752d60004b09",
   "metadata": {},
   "source": [
    "# AutoETS Model"
   ]
  },
  {
   "cell_type": "code",
   "execution_count": null,
   "id": "c9a8ba73-007c-4a2d-9038-e594004f107a",
   "metadata": {},
   "outputs": [],
   "source": [
    "from typing import List\n",
    "import pandas as pd\n",
    "import numpy as np\n",
    "import warnings\n",
    "warnings.filterwarnings(\"ignore\")\n",
    "\n",
    "from statsforecast.models import AutoETS\n",
    "from statsforecast.core import StatsForecast\n",
    "from utilsforecast.evaluation import evaluate\n",
    "from src.data import load_full_data, process_wide_df\n",
    "from utilsforecast.plotting import plot_series"
   ]
  },
  {
   "cell_type": "code",
   "execution_count": null,
   "id": "1265460e-e7c3-421d-852a-3e25e6d4b67c",
   "metadata": {},
   "outputs": [],
   "source": []
  },
  {
   "cell_type": "code",
   "execution_count": null,
   "id": "e38fa8a6-8f8e-4518-a04c-084c20194385",
   "metadata": {},
   "outputs": [],
   "source": [
    "# Use competition metric to evaluate our cross-validation predictions.\n",
    "def CompetitionMetric(\n",
    "    df: pd.DataFrame,\n",
    "    models: List[str],\n",
    "    id_col: str = \"unique_id\",\n",
    "    target_col: str = \"y\",\n",
    ") -> pd.DataFrame:\n",
    "    \"\"\"Computes the competition metric\"\"\"\n",
    "    error = df[models].sub(df[target_col], axis=0)\n",
    "\n",
    "    sum_abs_error = error[models].abs().sum(axis=0)\n",
    "    abs_sum_error = error[models].sum(axis=0).abs()\n",
    "    score = sum_abs_error + abs_sum_error\n",
    "    score /= df[target_col].sum()\n",
    "\n",
    "    score.index.name = id_col\n",
    "    score = score.reset_index()\n",
    "    return score"
   ]
  },
  {
   "cell_type": "code",
   "execution_count": null,
   "id": "dcd24ef6-eb37-4b78-b392-e892ce200b02",
   "metadata": {},
   "outputs": [],
   "source": []
  },
  {
   "cell_type": "code",
   "execution_count": null,
   "id": "cd9fd607-d0c7-40a2-8a51-fe949823f86a",
   "metadata": {},
   "outputs": [],
   "source": [
    "# Model inputs\n",
    "horizon = 13\n",
    "freq = \"W-MON\"\n",
    "\n",
    "sf = StatsForecast(models=[AutoETS(model='ZZZ'),],\n",
    "                   freq=\"7d\",\n",
    "                   n_jobs=-1,\n",
    "                   verbose=True)"
   ]
  },
  {
   "cell_type": "code",
   "execution_count": null,
   "id": "22411b9f-d132-499d-ab49-c49e04831692",
   "metadata": {},
   "outputs": [],
   "source": []
  },
  {
   "cell_type": "code",
   "execution_count": null,
   "id": "22cd78e2-bfe4-452d-bb02-94c28ef83463",
   "metadata": {},
   "outputs": [],
   "source": [
    "%%time\n",
    "\n",
    "df = process_wide_df(load_full_data())\n",
    "\n",
    "# Cross-validation run\n",
    "yhat_cv = sf.cross_validation(df=df,\n",
    "                              n_windows=1,\n",
    "                              h=horizon,\n",
    "                              step_size=13,\n",
    "                              refit=True)"
   ]
  },
  {
   "cell_type": "code",
   "execution_count": null,
   "id": "2bb5bd73-c72f-4498-84d1-83765fcff78a",
   "metadata": {},
   "outputs": [],
   "source": []
  },
  {
   "cell_type": "code",
   "execution_count": null,
   "id": "71cab8ba-16a1-4453-8422-c580f60e7656",
   "metadata": {},
   "outputs": [],
   "source": [
    "yhat_cv = yhat_cv.to_pandas()\n",
    "\n",
    "# Enforce non-negativity\n",
    "yhat_cv[str(sf.models[0])] = yhat_cv[str(sf.models[0])].clip(0)\n",
    "\n",
    "# Evaluate the cross-validation set on the competition metric\n",
    "cv_metric = evaluate(\n",
    "    yhat_cv.drop(columns=['cutoff']),\n",
    "    metrics=[CompetitionMetric],\n",
    ")\n",
    "print(f\"{cv_metric}\")"
   ]
  },
  {
   "cell_type": "code",
   "execution_count": null,
   "id": "1a8f0e7f-a41c-4ed2-b5b7-948ec80b03ea",
   "metadata": {},
   "outputs": [],
   "source": []
  },
  {
   "cell_type": "code",
   "execution_count": null,
   "id": "7d56b499-a32d-4706-9633-b71b69f48ceb",
   "metadata": {},
   "outputs": [],
   "source": [
    "%%time\n",
    "\n",
    "# Fit the model\n",
    "sf.fit(df = df)\n",
    "\n",
    "# Generate test predictions\n",
    "yhat_test = sf.predict(h=horizon)\n",
    "yhat_test = yhat_test.to_pandas()\n",
    "\n",
    "# Enforce non-negativity\n",
    "yhat_test[str(sf.models[0])] = yhat_test[str(sf.models[0])].clip(0)"
   ]
  },
  {
   "cell_type": "code",
   "execution_count": null,
   "id": "5b5afee0-e31b-462f-9511-6922018adedc",
   "metadata": {},
   "outputs": [],
   "source": [
    "import matplotlib.pyplot as plt\n",
    "\n",
    "f, ax = plt.subplots(1, 1)\n",
    "df.to_pandas().groupby(\"ds\")[[\"y\"]].sum().plot(ax=ax)\n",
    "yhat_test.groupby(\"ds\")[[\"AutoETS\"]].sum().plot(ax=ax)\n",
    "plt.show()"
   ]
  },
  {
   "cell_type": "code",
   "execution_count": null,
   "id": "5ba05384-cfe2-41f9-96cc-916accf5deac",
   "metadata": {},
   "outputs": [],
   "source": []
  }
 ],
 "metadata": {
  "kernelspec": {
   "display_name": "VN1",
   "language": "python",
   "name": "ts"
  },
  "language_info": {
   "codemirror_mode": {
    "name": "ipython",
    "version": 3
   },
   "file_extension": ".py",
   "mimetype": "text/x-python",
   "name": "python",
   "nbconvert_exporter": "python",
   "pygments_lexer": "ipython3",
   "version": "3.10.16"
  }
 },
 "nbformat": 4,
 "nbformat_minor": 5
}
